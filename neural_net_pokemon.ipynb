{
  "nbformat": 4,
  "nbformat_minor": 0,
  "metadata": {
    "colab": {
      "name": "neural net pokemon.ipynb",
      "version": "0.3.2",
      "provenance": [],
      "collapsed_sections": [],
      "include_colab_link": true
    },
    "kernelspec": {
      "name": "python3",
      "display_name": "Python 3"
    }
  },
  "cells": [
    {
      "cell_type": "markdown",
      "metadata": {
        "id": "view-in-github",
        "colab_type": "text"
      },
      "source": [
        "<a href=\"https://colab.research.google.com/github/taylorfogarty/launch/blob/master/neural_net_pokemon.ipynb\" target=\"_parent\"><img src=\"https://colab.research.google.com/assets/colab-badge.svg\" alt=\"Open In Colab\"/></a>"
      ]
    },
    {
      "cell_type": "code",
      "metadata": {
        "id": "Uh9Crq1xzLRD",
        "colab_type": "code",
        "colab": {}
      },
      "source": [
        "import numpy as np\n",
        "import pandas as pd\n",
        "from keras.models import Sequential\n",
        "from keras.layers import Dense\n",
        "from keras.wrappers.scikit_learn import KerasClassifier\n",
        "from keras.utils import np_utils\n",
        "from sklearn.cluster import AgglomerativeClustering\n",
        "from sklearn.model_selection import train_test_split, KFold, cross_val_score\n",
        "from sklearn.preprocessing import LabelEncoder\n",
        "from sklearn.pipeline import Pipeline\n",
        "from sklearn.decomposition import PCA\n",
        "from collections import Counter\n",
        "from google.colab import files\n",
        "def warn(*args, **kwargs):\n",
        "    pass\n",
        "import warnings\n",
        "warnings.warn = warn\n",
        "uploaded = files.upload()"
      ],
      "execution_count": 0,
      "outputs": []
    },
    {
      "cell_type": "code",
      "metadata": {
        "id": "xudYnxhTzYbc",
        "colab_type": "code",
        "colab": {}
      },
      "source": [
        "data = pd.read_csv(\"pokemon.csv\")\n",
        "data['percentage_male'] = data['percentage_male'].fillna(50)\n",
        "data = data.fillna(0)\n",
        "y = data['generation']\n",
        "X = data.drop(['abilities','type2','name','pokedex_number','generation','is_legendary'], axis=1)\n",
        "X = pd.get_dummies(X)\n",
        "X1 = data[['name','type1','generation','is_legendary','type2','hp','attack','defense']]"
      ],
      "execution_count": 0,
      "outputs": []
    },
    {
      "cell_type": "markdown",
      "metadata": {
        "id": "EovCNT7Qrxjf",
        "colab_type": "text"
      },
      "source": [
        "Supervised Learning"
      ]
    },
    {
      "cell_type": "code",
      "metadata": {
        "id": "G_yFXFI4aF07",
        "colab_type": "code",
        "colab": {
          "base_uri": "https://localhost:8080/",
          "height": 34
        },
        "outputId": "7e3ad019-1830-4646-f264-358642775015"
      },
      "source": [
        "def baseline_model():\n",
        "\tmodel = Sequential()\n",
        "\tmodel.add(Dense(20, input_dim=50, activation='relu'))\n",
        "\tmodel.add(Dense(7, activation='sigmoid'))\n",
        "\tmodel.compile(loss='categorical_crossentropy', optimizer='adam', metrics=['accuracy'])\n",
        "\treturn model\n",
        "\n",
        "estimator = KerasClassifier(build_fn=baseline_model, epochs=200, batch_size=5, verbose=0)\n",
        "\n",
        "kfold = KFold(n_splits=10, shuffle=True, random_state=614)\n",
        "results = cross_val_score(estimator, X, y, cv=kfold)\n",
        "print(\"Baseline: %.2f%% (%.2f%%)\" % (results.mean()*100, results.std()*100))"
      ],
      "execution_count": 8,
      "outputs": [
        {
          "output_type": "stream",
          "text": [
            "Baseline: 18.50% (3.70%)\n"
          ],
          "name": "stdout"
        }
      ]
    },
    {
      "cell_type": "markdown",
      "metadata": {
        "id": "68mgWyntrzs-",
        "colab_type": "text"
      },
      "source": [
        "Unsupervised Learning"
      ]
    },
    {
      "cell_type": "code",
      "metadata": {
        "id": "kGbeet7vXPbV",
        "colab_type": "code",
        "colab": {}
      },
      "source": [
        "from sklearn.cluster import KMeans\n",
        "k = 10\n",
        "kmeans = KMeans(n_clusters=k).fit(X)\n",
        "X1['group'] = pd.DataFrame(kmeans.labels_)"
      ],
      "execution_count": 0,
      "outputs": []
    },
    {
      "cell_type": "code",
      "metadata": {
        "id": "fUY6vkrRS9OU",
        "colab_type": "code",
        "colab": {}
      },
      "source": [
        "X4 = data[['name','type1','generation','is_legendary','type2','hp','sp_attack','sp_defense']]\n",
        "clusters = AgglomerativeClustering(n_clusters=10).fit(X)\n",
        "X4['cluster'] = clusters.labels_\n",
        "X4 = X4.sort_values(by='cluster')"
      ],
      "execution_count": 0,
      "outputs": []
    },
    {
      "cell_type": "code",
      "metadata": {
        "id": "rk01nhdepgb1",
        "colab_type": "code",
        "colab": {
          "base_uri": "https://localhost:8080/",
          "height": 34
        },
        "outputId": "57bad010-10a5-43e3-dc49-fc0dac034c0a"
      },
      "source": [
        "pca = PCA(n_components=20,svd_solver='full')\n",
        "X2 = pca.fit_transform(X)\n",
        "X3 = pd.DataFrame(pca.components_,columns=X.columns)\n",
        "X3.shape"
      ],
      "execution_count": 68,
      "outputs": [
        {
          "output_type": "execute_result",
          "data": {
            "text/plain": [
              "(20, 50)"
            ]
          },
          "metadata": {
            "tags": []
          },
          "execution_count": 68
        }
      ]
    }
  ]
}