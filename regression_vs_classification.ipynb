{
  "nbformat": 4,
  "nbformat_minor": 0,
  "metadata": {
    "colab": {
      "name": "regression vs classification.ipynb",
      "version": "0.3.2",
      "provenance": [],
      "collapsed_sections": [],
      "include_colab_link": true
    },
    "kernelspec": {
      "name": "python3",
      "display_name": "Python 3"
    }
  },
  "cells": [
    {
      "cell_type": "markdown",
      "metadata": {
        "id": "view-in-github",
        "colab_type": "text"
      },
      "source": [
        "<a href=\"https://colab.research.google.com/github/taylorfogarty/launch/blob/master/regression_vs_classification.ipynb\" target=\"_parent\"><img src=\"https://colab.research.google.com/assets/colab-badge.svg\" alt=\"Open In Colab\"/></a>"
      ]
    },
    {
      "cell_type": "markdown",
      "metadata": {
        "id": "lytLKYpkh9dV",
        "colab_type": "text"
      },
      "source": [
        "###Regression"
      ]
    },
    {
      "cell_type": "code",
      "metadata": {
        "id": "4CbCpjh2htEP",
        "colab_type": "code",
        "colab": {}
      },
      "source": [
        "import sklearn\n",
        "from sklearn.linear_model import ElasticNet, Lasso, Ridge, LogisticRegression, LinearRegression\n",
        "from sklearn.model_selection import train_test_split\n",
        "from sklearn.metrics import mean_squared_error\n",
        "from sklearn.ensemble import RandomForestRegressor\n",
        "import pandas as pd \n",
        "import matplotlib\n",
        "from matplotlib import pyplot\n",
        "def warn(*args, **kwargs):\n",
        "    pass\n",
        "import warnings\n",
        "warnings.warn = warn"
      ],
      "execution_count": 0,
      "outputs": []
    },
    {
      "cell_type": "code",
      "metadata": {
        "id": "fxvAb07AyCXe",
        "colab_type": "code",
        "colab": {}
      },
      "source": [
        "from google.colab import files\n",
        "uploaded = files.upload()"
      ],
      "execution_count": 0,
      "outputs": []
    },
    {
      "cell_type": "code",
      "metadata": {
        "id": "38vuIhRXy_Zp",
        "colab_type": "code",
        "colab": {}
      },
      "source": [
        "data = pd.read_csv(\"avocado.csv\")\n",
        "data = data.drop(['Unnamed: 0','Date', 'region','Total Volume','Total Bags'], axis = 1)\n",
        "data = pd.get_dummies(data, drop_first=True)\n",
        "y = data['AveragePrice']\n",
        "X = data.drop('AveragePrice', axis=1)\n",
        "X_train, X_test, y_train, y_test = train_test_split(X,y, test_size=.1)"
      ],
      "execution_count": 0,
      "outputs": []
    },
    {
      "cell_type": "code",
      "metadata": {
        "id": "3EuPi7yFz0zy",
        "colab_type": "code",
        "colab": {
          "base_uri": "https://localhost:8080/",
          "height": 71
        },
        "outputId": "4f7e25e0-6977-41bb-b865-063530212a75"
      },
      "source": [
        "lm = LinearRegression()\n",
        "lm_fit = lm.fit(X_train, y_train)\n",
        "lm_predict = lm_fit.predict(X_test)\n",
        "\n",
        "#lr = LogisticRegression()\n",
        "#lr_fit = lr.fit(X_train,y_train)\n",
        "#lr_predict = lr_fit.predict(X_test)\n",
        "## will not work because the range of y is 0 to 3.25, not 0 to 1\n",
        "\n",
        "ridge = Ridge()\n",
        "ridge_fit = ridge.fit(X_train,y_train)\n",
        "r_predict = ridge_fit.predict(X_test)\n",
        "\n",
        "lasso = Lasso(max_iter=1000)\n",
        "lasso_fit = lasso.fit(X_train,y_train)\n",
        "l_predict = lasso_fit.predict(X_test)\n",
        "\n",
        "ENet = ElasticNet(l1_ratio=.01)\n",
        "ENet_fit = ENet.fit(X_train,y_train)\n",
        "en_predict = ENet_fit.predict(X_test)\n",
        "\n",
        "## there are no higher order variables in this dataset, but for the sake of exemplifying the procedure,\n",
        "## pretend there is a quadratic relationship between the number of 4225 avocados and the price\n",
        "data1 = data.head(500)\n",
        "data1['4225_sq'] = 0\n",
        "for i in range(len(data1['4225'])):\n",
        "  data1['4225_sq'][i] = (data1['4225'][i])**2\n",
        "y2 = data1['AveragePrice']\n",
        "X2 = data1.drop('AveragePrice', axis=1)\n",
        "X_train2, X_test2, y_train2, y_test2 = train_test_split(X2,y2, test_size=.1)\n",
        "lm_fit = lm.fit(X_train2, y_train2)\n",
        "ho_predict = lm_fit.predict(X_test2)\n",
        "\n",
        "rand = RandomForestRegressor()\n",
        "rand_fit = rand.fit(X_train,y_train)\n",
        "rf_predict = rand_fit.predict(X_test)"
      ],
      "execution_count": 250,
      "outputs": [
        {
          "output_type": "stream",
          "text": [
            "/usr/local/lib/python3.6/dist-packages/sklearn/ensemble/forest.py:245: FutureWarning: The default value of n_estimators will change from 10 in version 0.20 to 100 in 0.22.\n",
            "  \"10 in version 0.20 to 100 in 0.22.\", FutureWarning)\n"
          ],
          "name": "stderr"
        }
      ]
    },
    {
      "cell_type": "code",
      "metadata": {
        "id": "GKWOduWJ4Uck",
        "colab_type": "code",
        "colab": {
          "base_uri": "https://localhost:8080/",
          "height": 119
        },
        "outputId": "0dfc0d7f-5c1e-4acc-b5fc-675d000b704b"
      },
      "source": [
        "print('Linear Model MSE:' , mean_squared_error(y_test,lm_predict))\n",
        "#mean_squared_error(y_test,lr_predict)\n",
        "print('Ridge Model MSE:' , mean_squared_error(y_test,r_predict))\n",
        "print('Lasso Model MSE:' , mean_squared_error(y_test,l_predict))\n",
        "print('Elastic Net Model MSE:' , mean_squared_error(y_test,en_predict))\n",
        "print('Higher Order Model MSE:' , mean_squared_error(y_test2,ho_predict))\n",
        "print('Random Forest MSE:' , mean_squared_error(y_test,rf_predict))"
      ],
      "execution_count": 252,
      "outputs": [
        {
          "output_type": "stream",
          "text": [
            "Linear Model MSE: 0.09792038897928204\n",
            "Ridge Model MSE: 0.09791772364668704\n",
            "Lasso Model MSE: 0.14654262570004578\n",
            "Elastic Net Model MSE: 0.12919487097231586\n",
            "Higher Order Model MSE: 0.015512612920132457\n",
            "Random Forest MSE: 0.034497292054794515\n"
          ],
          "name": "stdout"
        }
      ]
    },
    {
      "cell_type": "markdown",
      "metadata": {
        "id": "m1bgrnBaiASk",
        "colab_type": "text"
      },
      "source": [
        "###Classification"
      ]
    },
    {
      "cell_type": "code",
      "metadata": {
        "id": "TnrJFj6RiCPF",
        "colab_type": "code",
        "colab": {}
      },
      "source": [
        "import sklearn\n",
        "from sklearn.linear_model import LogisticRegression\n",
        "from sklearn.ensemble import RandomForestClassifier\n",
        "from sklearn.neural_network import MLPClassifier\n",
        "from sklearn.model_selection import train_test_split\n",
        "from sklearn.metrics import f1_score, confusion_matrix\n",
        "import pandas as pd"
      ],
      "execution_count": 0,
      "outputs": []
    },
    {
      "cell_type": "code",
      "metadata": {
        "id": "oRIM_LvyyejN",
        "colab_type": "code",
        "colab": {}
      },
      "source": [
        "from google.colab import files\n",
        "uploaded = files.upload()"
      ],
      "execution_count": 0,
      "outputs": []
    },
    {
      "cell_type": "code",
      "metadata": {
        "id": "f_gx0cbtygBh",
        "colab_type": "code",
        "colab": {}
      },
      "source": [
        "data = pd.read_csv(\"train.csv\")\n",
        "data = data.drop(['Name','Ticket','Cabin'], axis=1)\n",
        "data = pd.get_dummies(data)\n",
        "data = data.fillna(0)\n",
        "\n",
        "y = data['Survived']\n",
        "X = data.drop('Survived', axis=1)\n",
        "X_train, X_test, y_train, y_test = train_test_split(X,y, test_size=.1)"
      ],
      "execution_count": 0,
      "outputs": []
    },
    {
      "cell_type": "code",
      "metadata": {
        "id": "PMU0OnZEOOOS",
        "colab_type": "code",
        "colab": {
          "base_uri": "https://localhost:8080/",
          "height": 204
        },
        "outputId": "1c42b34b-fa97-4fdd-d4a5-5d5dac3e3301"
      },
      "source": [
        "data.head()"
      ],
      "execution_count": 236,
      "outputs": [
        {
          "output_type": "execute_result",
          "data": {
            "text/html": [
              "<div>\n",
              "<style scoped>\n",
              "    .dataframe tbody tr th:only-of-type {\n",
              "        vertical-align: middle;\n",
              "    }\n",
              "\n",
              "    .dataframe tbody tr th {\n",
              "        vertical-align: top;\n",
              "    }\n",
              "\n",
              "    .dataframe thead th {\n",
              "        text-align: right;\n",
              "    }\n",
              "</style>\n",
              "<table border=\"1\" class=\"dataframe\">\n",
              "  <thead>\n",
              "    <tr style=\"text-align: right;\">\n",
              "      <th></th>\n",
              "      <th>PassengerId</th>\n",
              "      <th>Pclass</th>\n",
              "      <th>Age</th>\n",
              "      <th>SibSp</th>\n",
              "      <th>Parch</th>\n",
              "      <th>Fare</th>\n",
              "      <th>Sex_female</th>\n",
              "      <th>Sex_male</th>\n",
              "      <th>Embarked_C</th>\n",
              "      <th>Embarked_Q</th>\n",
              "      <th>Embarked_S</th>\n",
              "    </tr>\n",
              "  </thead>\n",
              "  <tbody>\n",
              "    <tr>\n",
              "      <th>0</th>\n",
              "      <td>1</td>\n",
              "      <td>3</td>\n",
              "      <td>22.0</td>\n",
              "      <td>1</td>\n",
              "      <td>0</td>\n",
              "      <td>7.2500</td>\n",
              "      <td>0</td>\n",
              "      <td>1</td>\n",
              "      <td>0</td>\n",
              "      <td>0</td>\n",
              "      <td>1</td>\n",
              "    </tr>\n",
              "    <tr>\n",
              "      <th>1</th>\n",
              "      <td>2</td>\n",
              "      <td>1</td>\n",
              "      <td>38.0</td>\n",
              "      <td>1</td>\n",
              "      <td>0</td>\n",
              "      <td>71.2833</td>\n",
              "      <td>1</td>\n",
              "      <td>0</td>\n",
              "      <td>1</td>\n",
              "      <td>0</td>\n",
              "      <td>0</td>\n",
              "    </tr>\n",
              "    <tr>\n",
              "      <th>2</th>\n",
              "      <td>3</td>\n",
              "      <td>3</td>\n",
              "      <td>26.0</td>\n",
              "      <td>0</td>\n",
              "      <td>0</td>\n",
              "      <td>7.9250</td>\n",
              "      <td>1</td>\n",
              "      <td>0</td>\n",
              "      <td>0</td>\n",
              "      <td>0</td>\n",
              "      <td>1</td>\n",
              "    </tr>\n",
              "    <tr>\n",
              "      <th>3</th>\n",
              "      <td>4</td>\n",
              "      <td>1</td>\n",
              "      <td>35.0</td>\n",
              "      <td>1</td>\n",
              "      <td>0</td>\n",
              "      <td>53.1000</td>\n",
              "      <td>1</td>\n",
              "      <td>0</td>\n",
              "      <td>0</td>\n",
              "      <td>0</td>\n",
              "      <td>1</td>\n",
              "    </tr>\n",
              "    <tr>\n",
              "      <th>4</th>\n",
              "      <td>5</td>\n",
              "      <td>3</td>\n",
              "      <td>35.0</td>\n",
              "      <td>0</td>\n",
              "      <td>0</td>\n",
              "      <td>8.0500</td>\n",
              "      <td>0</td>\n",
              "      <td>1</td>\n",
              "      <td>0</td>\n",
              "      <td>0</td>\n",
              "      <td>1</td>\n",
              "    </tr>\n",
              "  </tbody>\n",
              "</table>\n",
              "</div>"
            ],
            "text/plain": [
              "   PassengerId  Pclass   Age  ...  Embarked_C  Embarked_Q  Embarked_S\n",
              "0            1       3  22.0  ...           0           0           1\n",
              "1            2       1  38.0  ...           1           0           0\n",
              "2            3       3  26.0  ...           0           0           1\n",
              "3            4       1  35.0  ...           0           0           1\n",
              "4            5       3  35.0  ...           0           0           1\n",
              "\n",
              "[5 rows x 11 columns]"
            ]
          },
          "metadata": {
            "tags": []
          },
          "execution_count": 236
        }
      ]
    },
    {
      "cell_type": "code",
      "metadata": {
        "id": "tfRPc8zmORzM",
        "colab_type": "code",
        "colab": {}
      },
      "source": [
        "lr = LogisticRegression()\n",
        "lr_fit = lr.fit(X_train,y_train)\n",
        "\n",
        "lasso2 = LogisticRegression(penalty='l1')\n",
        "lasso2_fit = lasso2.fit(X_train,y_train)\n",
        "\n",
        "ridge2 = LogisticRegression(penalty='l2')\n",
        "ridge2_fit = ridge2.fit(X_train,y_train)\n",
        "\n",
        "rand_for = RandomForestClassifier(n_estimators = 500, random_state = 40)\n",
        "rand_for_fit = rand_for.fit(X_train,y_train)\n",
        "\n",
        "clf = MLPClassifier(activation='logistic', solver='lbfgs',learning_rate='adaptive', alpha=.0005)\n",
        "clf_fit = clf.fit(X_train, y_train)"
      ],
      "execution_count": 0,
      "outputs": []
    },
    {
      "cell_type": "code",
      "metadata": {
        "id": "alo9huHaPre1",
        "colab_type": "code",
        "colab": {
          "base_uri": "https://localhost:8080/",
          "height": 102
        },
        "outputId": "b9c7f233-a639-4e83-a1bd-47d0d21a4f17"
      },
      "source": [
        "print('Logistic F Score:',lr_fit.score(X_test, y_test))\n",
        "print('LASSO F Score:',lasso2_fit.score(X_test, y_test))\n",
        "print('Ridge F Score:',ridge2_fit.score(X_test, y_test))\n",
        "print('Random Forest Classifier F Score:',rand_for_fit.score(X_test, y_test))\n",
        "print('Neural Net F Score:',clf_fit.score(X_test, y_test))"
      ],
      "execution_count": 273,
      "outputs": [
        {
          "output_type": "stream",
          "text": [
            "Logistic F Score: 0.8555555555555555\n",
            "LASSO F Score: 0.8555555555555555\n",
            "Ridge F Score: 0.8555555555555555\n",
            "Random Forest Classifier F Score: 0.8777777777777778\n",
            "Neural Net F Score: 0.7333333333333333\n"
          ],
          "name": "stdout"
        }
      ]
    }
  ]
}